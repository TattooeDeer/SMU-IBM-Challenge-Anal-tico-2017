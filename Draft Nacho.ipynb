{
    "nbformat": 4, 
    "cells": [
        {
            "execution_count": 30, 
            "cell_type": "code", 
            "source": "# Imports\n\n#estadistica y estructuras de datos\nimport pandas as pd\nimport numpy as np\n\n#machine learning\nimport sklearn as sklearn\nfrom sklearn.metrics import mean_squared_error\n\n# normalizacion\nfrom sklearn.preprocessing import StandardScaler\n\n# regresion lineal\nimport sklearn.linear_model as lm\n\n# division del conjunto en entrenamiento y testing\nfrom sklearn.model_selection import train_test_split\n\n# Cross Validation\nfrom sklearn.model_selection import KFold\n\n# en algun momento argumentamos a favor del coeficiente de determinacion como metrica valida\nfrom sklearn.metrics import r2_score\n\n# regularizacion\nfrom sklearn.linear_model import Ridge, Lasso\n\n# comparacion de precision\nfrom sklearn.metrics import accuracy_score\n\n# memory cache\nfrom sklearn.externals.joblib import Memory\nmemory = Memory(cachedir='/tmp', verbose = 0)\n\n# graficas\nimport seaborn as sn\n\n# database connection\nfrom ibmdbpy import IdaDataBase, IdaDataFrame\n\n# errores y cosas para calcular z-scores\nfrom numpy.linalg import pinv\n\n# graficos\nimport matplotlib.pyplot as plt\n%matplotlib inline", 
            "metadata": {}, 
            "outputs": [
                {
                    "evalue": "No module named 'sklearn.model_selection'", 
                    "traceback": [
                        "\u001b[1;31m\u001b[0m", 
                        "\u001b[1;31mImportError\u001b[0mTraceback (most recent call last)", 
                        "\u001b[1;32m<ipython-input-30-0675706ff02d>\u001b[0m in \u001b[0;36m<module>\u001b[1;34m()\u001b[0m\n\u001b[0;32m     16\u001b[0m \u001b[1;33m\u001b[0m\u001b[0m\n\u001b[0;32m     17\u001b[0m \u001b[1;31m# division del conjunto en entrenamiento y testing\u001b[0m\u001b[1;33m\u001b[0m\u001b[1;33m\u001b[0m\u001b[0m\n\u001b[1;32m---> 18\u001b[1;33m \u001b[1;32mfrom\u001b[0m \u001b[0msklearn\u001b[0m\u001b[1;33m.\u001b[0m\u001b[0mmodel_selection\u001b[0m \u001b[1;32mimport\u001b[0m \u001b[0mtrain_test_split\u001b[0m\u001b[1;33m\u001b[0m\u001b[0m\n\u001b[0m\u001b[0;32m     19\u001b[0m \u001b[1;33m\u001b[0m\u001b[0m\n\u001b[0;32m     20\u001b[0m \u001b[1;31m# Cross Validation\u001b[0m\u001b[1;33m\u001b[0m\u001b[1;33m\u001b[0m\u001b[0m\n", 
                        "\u001b[1;31mImportError\u001b[0m: No module named 'sklearn.model_selection'"
                    ], 
                    "ename": "ImportError", 
                    "output_type": "error"
                }
            ]
        }, 
        {
            "execution_count": 17, 
            "cell_type": "code", 
            "source": "# The code was removed by DSX for sharing.", 
            "metadata": {}, 
            "outputs": []
        }, 
        {
            "execution_count": null, 
            "cell_type": "code", 
            "source": "", 
            "metadata": {}, 
            "outputs": []
        }, 
        {
            "execution_count": null, 
            "cell_type": "code", 
            "source": "", 
            "metadata": {}, 
            "outputs": []
        }, 
        {
            "execution_count": null, 
            "cell_type": "code", 
            "source": "", 
            "metadata": {}, 
            "outputs": []
        }, 
        {
            "execution_count": null, 
            "cell_type": "code", 
            "source": "", 
            "metadata": {}, 
            "outputs": []
        }
    ], 
    "metadata": {
        "language_info": {
            "version": "3.5.2", 
            "file_extension": ".py", 
            "codemirror_mode": {
                "version": 3, 
                "name": "ipython"
            }, 
            "nbconvert_exporter": "python", 
            "pygments_lexer": "ipython3", 
            "mimetype": "text/x-python", 
            "name": "python"
        }, 
        "kernelspec": {
            "language": "python", 
            "display_name": "Python 3.5 (Experimental) with Spark 2.1", 
            "name": "python3-spark21"
        }
    }, 
    "nbformat_minor": 1
}